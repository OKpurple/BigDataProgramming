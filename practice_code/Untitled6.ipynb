{
 "cells": [
  {
   "cell_type": "code",
   "execution_count": 122,
   "metadata": {
    "collapsed": false
   },
   "outputs": [],
   "source": [
    "import os\n",
    "import sys\n",
    "\n",
    "\n",
    "os.environ[\"SPARK_HOME\"]=\"/Users/jwh/Developer/spark-2.0.0-bin-hadoop2.6\"\n",
    "os.environ[\"PYLIB\"]=os.path.join(os.environ[\"SPARK_HOME\"],'python','lib')\n",
    "#라이브러리를 include 시킴\n",
    "sys.path.insert(0,os.path.join(os.environ[\"PYLIB\"],'py4j-0.10.1-src.zip'))\n",
    "sys.path.insert(0,os.path.join(os.environ[\"PYLIB\"],'pyspark.zip'))\n"
   ]
  },
  {
   "cell_type": "code",
   "execution_count": 123,
   "metadata": {
    "collapsed": false
   },
   "outputs": [],
   "source": [
    "import pyspark\n",
    "os.path.expanduser(\"~\")\n",
    "\n",
    "myConf=pyspark.SparkConf()\n",
    "#local은 클러스터를 안쓰고 자기만 쓴다\n",
    "#config는 설정대로 넣는 것\n",
    "#get or create는 팩토리패턴으로 있으면 있는거 쓰고 없으면 만들어 씀\n",
    "spark = pyspark.sql.SparkSession.builder.master(\"local\").appName(\"myApp\").config(conf=myConf).getOrCreate()"
   ]
  },
  {
   "cell_type": "code",
   "execution_count": 124,
   "metadata": {
    "collapsed": false
   },
   "outputs": [],
   "source": [
    "myRdd2=spark.sparkContext\\\n",
    "    .textFile(os.path.join(\"data\",\"ds_spark_wiki.txt\"))"
   ]
  },
  {
   "cell_type": "code",
   "execution_count": 125,
   "metadata": {
    "collapsed": true
   },
   "outputs": [],
   "source": [
    "words=myRdd2.map(lambda x:x.split(' '))"
   ]
  },
  {
   "cell_type": "code",
   "execution_count": 126,
   "metadata": {
    "collapsed": false
   },
   "outputs": [
    {
     "data": {
      "text/plain": [
       "[[u'Wikipedia']]"
      ]
     },
     "execution_count": 126,
     "metadata": {},
     "output_type": "execute_result"
    }
   ],
   "source": [
    "words.take(1)"
   ]
  },
  {
   "cell_type": "code",
   "execution_count": 127,
   "metadata": {
    "collapsed": false
   },
   "outputs": [
    {
     "data": {
      "text/plain": [
       "10"
      ]
     },
     "execution_count": 127,
     "metadata": {},
     "output_type": "execute_result"
    }
   ],
   "source": [
    "words.count()"
   ]
  },
  {
   "cell_type": "code",
   "execution_count": 135,
   "metadata": {
    "collapsed": false
   },
   "outputs": [
    {
     "data": {
      "text/plain": [
       "pyspark.rdd.PipelinedRDD"
      ]
     },
     "execution_count": 135,
     "metadata": {},
     "output_type": "execute_result"
    }
   ],
   "source": [
    "type (words)"
   ]
  },
  {
   "cell_type": "code",
   "execution_count": 138,
   "metadata": {
    "collapsed": false
   },
   "outputs": [
    {
     "name": "stdout",
     "output_type": "stream",
     "text": [
      "[]\n",
      "[[u'Wikipedia']]\n",
      "[[u'Wikipedia'], [u'Apache', u'Spark', u'is', u'an', u'open', u'source', u'cluster', u'computing', u'framework.']]\n",
      "[[u'Wikipedia'], [u'Apache', u'Spark', u'is', u'an', u'open', u'source', u'cluster', u'computing', u'framework.'], [u'\\uc544\\ud30c\\uce58', u'\\uc2a4\\ud30c\\ud06c\\ub294', u'\\uc624\\ud508', u'\\uc18c\\uc2a4', u'\\ud074\\ub7ec\\uc2a4\\ud130', u'\\ucef4\\ud4e8\\ud305', u'\\ud504\\ub808\\uc784\\uc6cc\\ud06c\\uc774\\ub2e4.']]\n",
      "[[u'Wikipedia'], [u'Apache', u'Spark', u'is', u'an', u'open', u'source', u'cluster', u'computing', u'framework.'], [u'\\uc544\\ud30c\\uce58', u'\\uc2a4\\ud30c\\ud06c\\ub294', u'\\uc624\\ud508', u'\\uc18c\\uc2a4', u'\\ud074\\ub7ec\\uc2a4\\ud130', u'\\ucef4\\ud4e8\\ud305', u'\\ud504\\ub808\\uc784\\uc6cc\\ud06c\\uc774\\ub2e4.'], [u'Apache', u'Spark', u'Apache', u'Spark', u'Apache', u'Spark', u'Apache', u'Spark']]\n",
      "[[u'Wikipedia'], [u'Apache', u'Spark', u'is', u'an', u'open', u'source', u'cluster', u'computing', u'framework.'], [u'\\uc544\\ud30c\\uce58', u'\\uc2a4\\ud30c\\ud06c\\ub294', u'\\uc624\\ud508', u'\\uc18c\\uc2a4', u'\\ud074\\ub7ec\\uc2a4\\ud130', u'\\ucef4\\ud4e8\\ud305', u'\\ud504\\ub808\\uc784\\uc6cc\\ud06c\\uc774\\ub2e4.'], [u'Apache', u'Spark', u'Apache', u'Spark', u'Apache', u'Spark', u'Apache', u'Spark'], [u'\\uc544\\ud30c\\uce58', u'\\uc2a4\\ud30c\\ud06c', u'\\uc544\\ud30c\\uce58', u'\\uc2a4\\ud30c\\ud06c', u'\\uc544\\ud30c\\uce58', u'\\uc2a4\\ud30c\\ud06c', u'\\uc544\\ud30c\\uce58', u'\\uc2a4\\ud30c\\ud06c']]\n",
      "[[u'Wikipedia'], [u'Apache', u'Spark', u'is', u'an', u'open', u'source', u'cluster', u'computing', u'framework.'], [u'\\uc544\\ud30c\\uce58', u'\\uc2a4\\ud30c\\ud06c\\ub294', u'\\uc624\\ud508', u'\\uc18c\\uc2a4', u'\\ud074\\ub7ec\\uc2a4\\ud130', u'\\ucef4\\ud4e8\\ud305', u'\\ud504\\ub808\\uc784\\uc6cc\\ud06c\\uc774\\ub2e4.'], [u'Apache', u'Spark', u'Apache', u'Spark', u'Apache', u'Spark', u'Apache', u'Spark'], [u'\\uc544\\ud30c\\uce58', u'\\uc2a4\\ud30c\\ud06c', u'\\uc544\\ud30c\\uce58', u'\\uc2a4\\ud30c\\ud06c', u'\\uc544\\ud30c\\uce58', u'\\uc2a4\\ud30c\\ud06c', u'\\uc544\\ud30c\\uce58', u'\\uc2a4\\ud30c\\ud06c'], [u'Originally', u'developed', u'at', u'the', u'University', u'of', u'California,', u\"Berkeley's\", u'AMPLab,']]\n",
      "[[u'Wikipedia'], [u'Apache', u'Spark', u'is', u'an', u'open', u'source', u'cluster', u'computing', u'framework.'], [u'\\uc544\\ud30c\\uce58', u'\\uc2a4\\ud30c\\ud06c\\ub294', u'\\uc624\\ud508', u'\\uc18c\\uc2a4', u'\\ud074\\ub7ec\\uc2a4\\ud130', u'\\ucef4\\ud4e8\\ud305', u'\\ud504\\ub808\\uc784\\uc6cc\\ud06c\\uc774\\ub2e4.'], [u'Apache', u'Spark', u'Apache', u'Spark', u'Apache', u'Spark', u'Apache', u'Spark'], [u'\\uc544\\ud30c\\uce58', u'\\uc2a4\\ud30c\\ud06c', u'\\uc544\\ud30c\\uce58', u'\\uc2a4\\ud30c\\ud06c', u'\\uc544\\ud30c\\uce58', u'\\uc2a4\\ud30c\\ud06c', u'\\uc544\\ud30c\\uce58', u'\\uc2a4\\ud30c\\ud06c'], [u'Originally', u'developed', u'at', u'the', u'University', u'of', u'California,', u\"Berkeley's\", u'AMPLab,'], [u'the', u'Spark', u'codebase', u'was', u'later', u'donated', u'to', u'the', u'Apache', u'Software', u'Foundation,']]\n",
      "[[u'Wikipedia'], [u'Apache', u'Spark', u'is', u'an', u'open', u'source', u'cluster', u'computing', u'framework.'], [u'\\uc544\\ud30c\\uce58', u'\\uc2a4\\ud30c\\ud06c\\ub294', u'\\uc624\\ud508', u'\\uc18c\\uc2a4', u'\\ud074\\ub7ec\\uc2a4\\ud130', u'\\ucef4\\ud4e8\\ud305', u'\\ud504\\ub808\\uc784\\uc6cc\\ud06c\\uc774\\ub2e4.'], [u'Apache', u'Spark', u'Apache', u'Spark', u'Apache', u'Spark', u'Apache', u'Spark'], [u'\\uc544\\ud30c\\uce58', u'\\uc2a4\\ud30c\\ud06c', u'\\uc544\\ud30c\\uce58', u'\\uc2a4\\ud30c\\ud06c', u'\\uc544\\ud30c\\uce58', u'\\uc2a4\\ud30c\\ud06c', u'\\uc544\\ud30c\\uce58', u'\\uc2a4\\ud30c\\ud06c'], [u'Originally', u'developed', u'at', u'the', u'University', u'of', u'California,', u\"Berkeley's\", u'AMPLab,'], [u'the', u'Spark', u'codebase', u'was', u'later', u'donated', u'to', u'the', u'Apache', u'Software', u'Foundation,'], [u'which', u'has', u'maintained', u'it', u'since.']]\n",
      "[[u'Wikipedia'], [u'Apache', u'Spark', u'is', u'an', u'open', u'source', u'cluster', u'computing', u'framework.'], [u'\\uc544\\ud30c\\uce58', u'\\uc2a4\\ud30c\\ud06c\\ub294', u'\\uc624\\ud508', u'\\uc18c\\uc2a4', u'\\ud074\\ub7ec\\uc2a4\\ud130', u'\\ucef4\\ud4e8\\ud305', u'\\ud504\\ub808\\uc784\\uc6cc\\ud06c\\uc774\\ub2e4.'], [u'Apache', u'Spark', u'Apache', u'Spark', u'Apache', u'Spark', u'Apache', u'Spark'], [u'\\uc544\\ud30c\\uce58', u'\\uc2a4\\ud30c\\ud06c', u'\\uc544\\ud30c\\uce58', u'\\uc2a4\\ud30c\\ud06c', u'\\uc544\\ud30c\\uce58', u'\\uc2a4\\ud30c\\ud06c', u'\\uc544\\ud30c\\uce58', u'\\uc2a4\\ud30c\\ud06c'], [u'Originally', u'developed', u'at', u'the', u'University', u'of', u'California,', u\"Berkeley's\", u'AMPLab,'], [u'the', u'Spark', u'codebase', u'was', u'later', u'donated', u'to', u'the', u'Apache', u'Software', u'Foundation,'], [u'which', u'has', u'maintained', u'it', u'since.'], [u'Spark', u'provides', u'an', u'interface', u'for', u'programming', u'entire', u'clusters', u'with']]\n"
     ]
    }
   ],
   "source": [
    "words=myRdd2.map(lambda x:x.split(' '))\n",
    "lenth = words.count()\n",
    "i=0\n",
    "while i < lenth:\n",
    "    print words.take(i)\n",
    "    i = i+1"
   ]
  },
  {
   "cell_type": "code",
   "execution_count": 139,
   "metadata": {
    "collapsed": false
   },
   "outputs": [
    {
     "name": "stdout",
     "output_type": "stream",
     "text": [
      "키-키값 {u'\\uc18c\\uc2a4': 7, u'computing': 8, u'developed': 4, u'is': 8, u'Wikipedia': 9, u'it': 2, u'AMPLab,': 4, u'an': 9, u'cluster': 8, u'maintained': 2, u'donated': 3, u'at': 4, u'\\ucef4\\ud4e8\\ud305': 7, u'\\uc544\\ud30c\\uce58': 27, u'open': 8, u'California,': 4, u'since.': 2, u'for': 1, u'to': 3, u'\\ud074\\ub7ec\\uc2a4\\ud130': 7, u'framework.': 8, u'source': 8, u'which': 2, u'Apache': 35, u'clusters': 1, u'Spark': 36, u'has': 2, u'was': 3, u'University': 4, u'provides': 1, u'Originally': 4, u'\\uc2a4\\ud30c\\ud06c': 20, u'codebase': 3, u'interface': 1, u'with': 1, u'\\ud504\\ub808\\uc784\\uc6cc\\ud06c\\uc774\\ub2e4.': 7, u'Software': 3, u'entire': 1, u'Foundation,': 3, u'\\uc624\\ud508': 7, u'of': 4, u'later': 3, u'programming': 1, u'\\uc2a4\\ud30c\\ud06c\\ub294': 7, u\"Berkeley's\": 4, u'the': 10}\n"
     ]
    }
   ],
   "source": [
    "lenth = words.count()\n",
    "i = 0\n",
    "d = dict()\n",
    "while i < lenth:\n",
    "    for word in words.take(i):\n",
    "        for w in word:\n",
    "            if w not in d:\n",
    "                d[w]=1\n",
    "            else:\n",
    "                d[w]=d[w]+1\n",
    "    i = i+1\n",
    "\n",
    "print \"키-키값\",d "
   ]
  },
  {
   "cell_type": "code",
   "execution_count": 146,
   "metadata": {
    "collapsed": false
   },
   "outputs": [
    {
     "data": {
      "image/png": "[encoded data removed]",
      "text/plain": [
       "<matplotlib.figure.Figure at 0x11022df90>"
      ]
     },
     "metadata": {},
     "output_type": "display_data"
    }
   ],
   "source": [
    "%matplotlib inline\n",
    "\n",
    "import matplotlib\n",
    "import matplotlib.pyplot as plt \n",
    "# 2단계로 나누어 그림\n",
    "plt.bar(range(len(d)), d.values(), align='center')\n",
    "plt.xticks(range(len(d)), list(d.keys()))\n",
    "plt.show()"
   ]
  },
  {
   "cell_type": "code",
   "execution_count": 143,
   "metadata": {
    "collapsed": false
   },
   "outputs": [
    {
     "name": "stdout",
     "output_type": "stream",
     "text": [
      "키-키값 {u'and': 1, u'\\uc18c\\uc2a4': 1, u'computing': 1, u'developed': 1, u'is': 1, u'Wikipedia': 1, u'it': 1, u'AMPLab,': 1, u'an': 2, u'cluster': 1, u'maintained': 1, u'donated': 1, u'at': 1, u'\\ucef4\\ud4e8\\ud305': 1, u'\\uc544\\ud30c\\uce58': 5, u'open': 1, u'California,': 1, u'since.': 1, u'for': 1, u'to': 1, u'\\ud074\\ub7ec\\uc2a4\\ud130': 1, u'data': 1, u'framework.': 1, u'source': 1, u'which': 1, u'Apache': 6, u'clusters': 1, u'Spark': 7, u'has': 1, u'was': 1, u'University': 1, u'provides': 1, u'fault-tolerance.': 1, u'Originally': 1, u'\\uc2a4\\ud30c\\ud06c': 4, u'codebase': 1, u'interface': 1, u'with': 1, u'implicit': 1, u'\\ud504\\ub808\\uc784\\uc6cc\\ud06c\\uc774\\ub2e4.': 1, u'Software': 1, u'entire': 1, u'Foundation,': 1, u'\\uc624\\ud508': 1, u'of': 1, u'later': 1, u'programming': 1, u'\\uc2a4\\ud30c\\ud06c\\ub294': 1, u'parallelism': 1, u\"Berkeley's\": 1, u'the': 3}\n"
     ]
    }
   ],
   "source": [
    "lenth = words.count()\n",
    "i = 0\n",
    "d = dict()\n",
    "\n",
    "for word in words.take(lenth):\n",
    "    for w in word:\n",
    "            if w not in d:\n",
    "                d[w]=1\n",
    "            else:\n",
    "                d[w]=d[w]+1\n",
    "    i = i+1\n",
    "\n",
    "\n",
    "print \"키-키값\",d "
   ]
  },
  {
   "cell_type": "code",
   "execution_count": 144,
   "metadata": {
    "collapsed": false
   },
   "outputs": [
    {
     "data": {
      "image/png": "[encoded data removed]",
      "text/plain": [
       "<matplotlib.figure.Figure at 0x10fbc8750>"
      ]
     },
     "metadata": {},
     "output_type": "display_data"
    }
   ],
   "source": [
    "%matplotlib inline\n",
    "\n",
    "import matplotlib\n",
    "import matplotlib.pyplot as plt \n",
    "# 2단계로 나누어 그림\n",
    "plt.bar(range(len(d)), d.values(), align='center')\n",
    "plt.xticks(range(len(d)), list(d.keys()))\n",
    "plt.show()"
   ]
  },
  {
   "cell_type": "code",
   "execution_count": 148,
   "metadata": {
    "collapsed": true
   },
   "outputs": [],
   "source": [
    "#홈찾는거\n",
    "import os\n",
    "home=os.path.expanduser(\"~\")"
   ]
  },
  {
   "cell_type": "code",
   "execution_count": 149,
   "metadata": {
    "collapsed": false
   },
   "outputs": [
    {
     "name": "stdout",
     "output_type": "stream",
     "text": [
      "/Users/jwh\n"
     ]
    }
   ],
   "source": [
    "print home"
   ]
  },
  {
   "cell_type": "code",
   "execution_count": 152,
   "metadata": {
    "collapsed": false
   },
   "outputs": [],
   "source": [
    "import findspark\n",
    "findspark.init(os.path.join(home,\"Developer\",\"spark-2.0.0-bin-hadoop2.6\"))"
   ]
  }
 ],
 "metadata": {
  "kernelspec": {
   "display_name": "Python 2",
   "language": "python",
   "name": "python2"
  },
  "language_info": {
   "codemirror_mode": {
    "name": "ipython",
    "version": 2
   },
   "file_extension": ".py",
   "mimetype": "text/x-python",
   "name": "python",
   "nbconvert_exporter": "python",
   "pygments_lexer": "ipython2",
   "version": "2.7.13"
  }
 },
 "nbformat": 4,
 "nbformat_minor": 2
}
