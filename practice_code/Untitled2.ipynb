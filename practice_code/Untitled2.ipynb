{
 "cells": [
  {
   "cell_type": "code",
   "execution_count": 1,
   "metadata": {
    "collapsed": false
   },
   "outputs": [
    {
     "name": "stdout",
     "output_type": "stream",
     "text": [
      "200\n",
      "ok\n"
     ]
    }
   ],
   "source": [
    "import requests, time\n",
    "r = requests.post('http://requestb.in/tfledxtf', data={\"ts\":time.time()})\n",
    "print r.status_code\n",
    "print r.content"
   ]
  },
  {
   "cell_type": "code",
   "execution_count": 2,
   "metadata": {
    "collapsed": false
   },
   "outputs": [
    {
     "name": "stdout",
     "output_type": "stream",
     "text": [
      "{\r\n",
      "  \"origin\": \"203.237.172.100\"\r\n",
      "}\r\n"
     ]
    }
   ],
   "source": [
    "!curl http://httpbin.org/ip"
   ]
  },
  {
   "cell_type": "code",
   "execution_count": 3,
   "metadata": {
    "collapsed": false
   },
   "outputs": [
    {
     "name": "stdout",
     "output_type": "stream",
     "text": [
      "{\r\n",
      "  \"args\": {\r\n",
      "    \"show_env\": \"1\"\r\n",
      "  }, \r\n",
      "  \"headers\": {\r\n",
      "    \"Accept\": \"*/*\", \r\n",
      "    \"Connect-Time\": \"0\", \r\n",
      "    \"Connection\": \"close\", \r\n",
      "    \"Host\": \"httpbin.org\", \r\n",
      "    \"Total-Route-Time\": \"0\", \r\n",
      "    \"User-Agent\": \"curl/7.52.1\", \r\n",
      "    \"Via\": \"1.1 vegur\", \r\n",
      "    \"X-Forwarded-For\": \"203.237.172.100\", \r\n",
      "    \"X-Forwarded-Port\": \"80\", \r\n",
      "    \"X-Forwarded-Proto\": \"http\", \r\n",
      "    \"X-Request-Id\": \"4cecfcc4-8c8f-455d-905a-b815a60d0bdd\", \r\n",
      "    \"X-Request-Start\": \"1493609198298\"\r\n",
      "  }, \r\n",
      "  \"origin\": \"203.237.172.100\", \r\n",
      "  \"url\": \"http://httpbin.org/get?show_env=1\"\r\n",
      "}\r\n"
     ]
    }
   ],
   "source": [
    "!curl http://httpbin.org/get?show_env=1"
   ]
  },
  {
   "cell_type": "code",
   "execution_count": 4,
   "metadata": {
    "collapsed": false
   },
   "outputs": [
    {
     "name": "stdout",
     "output_type": "stream",
     "text": [
      "%ED%95%9C\n",
      "%ED%95%9C\n"
     ]
    }
   ],
   "source": [
    "import urllib\n",
    "\n",
    "mystr = u\"한\"\n",
    "utf8str=mystr.encode('utf-8')  # error without encoding\n",
    "print urllib.quote(utf8str)\n",
    "print urllib.quote_plus(utf8str)"
   ]
  },
  {
   "cell_type": "code",
   "execution_count": 5,
   "metadata": {
    "collapsed": false
   },
   "outputs": [
    {
     "name": "stdout",
     "output_type": "stream",
     "text": [
      "key=%253D\n"
     ]
    }
   ],
   "source": [
    "import urllib\n",
    "params=urllib.urlencode({'key':'%3D'})\n",
    "print params"
   ]
  },
  {
   "cell_type": "code",
   "execution_count": 7,
   "metadata": {
    "collapsed": false
   },
   "outputs": [
    {
     "name": "stdout",
     "output_type": "stream",
     "text": [
      "Writing src/ds_dataAPI.py\n"
     ]
    }
   ],
   "source": [
    "%%writefile src/ds_dataAPI.py\n",
    "import requests\n",
    "url='http://freegeoip.net/json/'\n",
    "geostr=requests.get(url).text\n",
    "print geostr"
   ]
  },
  {
   "cell_type": "code",
   "execution_count": 8,
   "metadata": {
    "collapsed": false
   },
   "outputs": [
    {
     "name": "stdout",
     "output_type": "stream",
     "text": [
      "{\"ip\":\"203.237.172.100\",\"country_code\":\"KR\",\"country_name\":\"Republic of Korea\",\"region_code\":\"11\",\"region_name\":\"Seoul\",\"city\":\"\",\"zip_code\":\"\",\"time_zone\":\"Asia/Seoul\",\"latitude\":37.6027,\"longitude\":127.0145,\"metro_code\":0}\r\n",
      "\r\n"
     ]
    }
   ],
   "source": [
    "!python src/ds_dataAPI.py"
   ]
  },
  {
   "cell_type": "code",
   "execution_count": null,
   "metadata": {
    "collapsed": true
   },
   "outputs": [],
   "source": []
  }
 ],
 "metadata": {
  "kernelspec": {
   "display_name": "Python 2",
   "language": "python",
   "name": "python2"
  },
  "language_info": {
   "codemirror_mode": {
    "name": "ipython",
    "version": 2
   },
   "file_extension": ".py",
   "mimetype": "text/x-python",
   "name": "python",
   "nbconvert_exporter": "python",
   "pygments_lexer": "ipython2",
   "version": "2.7.13"
  }
 },
 "nbformat": 4,
 "nbformat_minor": 2
}
