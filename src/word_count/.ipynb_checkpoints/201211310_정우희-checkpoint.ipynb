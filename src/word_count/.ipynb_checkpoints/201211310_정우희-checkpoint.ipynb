{
 "cells": [
  {
   "cell_type": "code",
   "execution_count": 132,
   "metadata": {
    "collapsed": true
   },
   "outputs": [],
   "source": [
    "import os\n",
    "home=os.path.expanduser(\"~\")"
   ]
  },
  {
   "cell_type": "code",
   "execution_count": 133,
   "metadata": {
    "collapsed": true
   },
   "outputs": [],
   "source": [
    "import findspark\n",
    "findspark.init(os.path.join(home,\"Developer\",\"spark-2.0.0-bin-hadoop2.6\"))"
   ]
  },
  {
   "cell_type": "code",
   "execution_count": 134,
   "metadata": {
    "collapsed": true
   },
   "outputs": [],
   "source": [
    "import pyspark\n",
    "myConf=pyspark.SparkConf()\n",
    "spark = pyspark.sql.SparkSession.builder\\\n",
    "    .master(\"local\")\\\n",
    "    .appName(\"myApp\")\\\n",
    "    .config(conf=myConf)\\\n",
    "    .getOrCreate()"
   ]
  },
  {
   "cell_type": "code",
   "execution_count": 136,
   "metadata": {
    "collapsed": true
   },
   "outputs": [],
   "source": [
    "##Q01 세모"
   ]
  },
  {
   "cell_type": "code",
   "execution_count": 311,
   "metadata": {
    "collapsed": false,
    "scrolled": false
   },
   "outputs": [
    {
     "name": "stdout",
     "output_type": "stream",
     "text": [
      "OB 베어스\n",
      "해태 타이거즈\n",
      "롯데 자이언츠\n",
      "삼성 라이온즈\n",
      "해태 타이거즈\n",
      "해태 타이거즈\n",
      "해태 타이거즈\n",
      "해태 타이거즈\n",
      "LG 트윈스\n",
      "해태 타이거즈\n",
      "롯데 자이언츠\n",
      "해태 타이거즈\n",
      "LG 트윈스\n",
      "OB 베어스\n",
      "해태 타이거즈\n",
      "해태 타이거즈\n",
      "현대 유니콘스\n",
      "한화 이글스\n",
      "현대 유니콘스\n",
      "두산 베어스\n",
      "삼성 라이온즈\n",
      "현대 유니콘스\n",
      "현대 유니콘스\n",
      "삼성 라이온즈\n",
      "삼성 라이온즈\n",
      "SK 와이번스\n",
      "SK 와이번스\n",
      "KIA 타이거즈\n",
      "SK 와이번스\n",
      "삼성 라이온즈\n",
      "삼성 라이온즈\n",
      "삼성 라이온즈\n",
      "삼성 라이온즈\n",
      "두산 베어스\n",
      "두산 베어스\n",
      "kia 타이거즈 의 우승횟수 1\n",
      "lg 트윈스 의 우승횟수 2\n",
      "ob 베어스 의 우승횟수 2\n",
      "sk 와이번스 의 우승횟수 3\n",
      "두산 베어스 의 우승횟수 3\n",
      "롯데 자이언츠 의 우승횟수 2\n",
      "삼성 라이온즈 의 우승횟수 8\n",
      "한화 이글스 의 우승횟수 1\n",
      "해태 타이거즈 의 우승횟수 9\n",
      "현대 유니콘스 의 우승횟수 4\n",
      "강병철 의 우승횟수 2\n",
      "김성근 의 우승횟수 3\n",
      "김영덕 의 우승횟수 2\n",
      "김응용 의 우승횟수 10\n",
      "김인식 의 우승횟수 2\n",
      "김재박 의 우승횟수 4\n",
      "김태형 의 우승횟수 2\n",
      "류중일 의 우승횟수 4\n",
      "백인천 의 우승횟수 1\n",
      "선동열 의 우승횟수 2\n",
      "이광환 의 우승횟수 1\n",
      "이희수 의 우승횟수 1\n",
      "조범현 의 우승횟수 1\n"
     ]
    }
   ],
   "source": [
    "import urllib\n",
    "from lxml import etree\n",
    "from operator import add\n",
    "uResponse = urllib.urlopen('https://ko.wikipedia.org/wiki/KBO_%ED%95%9C%EA%B5%AD%EC%8B%9C%EB%A6%AC%EC%A6%88')\n",
    "_html = uResponse.read()\n",
    "_htmlTree = etree.HTML(_html)\n",
    "result = etree.tostring(_htmlTree, pretty_print=True, method=\"html\")\n",
    "nodes = _htmlTree.xpath('//table[@class=\"wikitable\"][1]//tr/td[2]/a')\n",
    "myls = []\n",
    "for node in nodes:\n",
    "    myls.append(node.text)\n",
    "KBO_Rdd = spark.sparkContext.parallelize(myls)\n",
    "myl = KBO_Rdd.collect()\n",
    "#Q 1.1\n",
    "for ww in myl:\n",
    "    print ww\n",
    "    \n",
    "kbo = KBO_Rdd.map(lambda x: (x.lower().rstrip().lstrip().rstrip(',').rstrip('.'), 1))\n",
    "wcReduceByKey = kbo.reduceByKey(add)\n",
    "wclist = wcReduceByKey.sortByKey().collect()\n",
    "\n",
    "#Q 1.2\n",
    "for t in wclist:\n",
    "    print t[0],\"의 우승횟수\",t[1]\n",
    "    \n",
    "nodes = _htmlTree.xpath('//table[@class=\"wikitable\"][1]//tr/td[2]//small/a')\n",
    "\n",
    "myls = []\n",
    "for node in nodes:\n",
    "    myls.append(node.text)\n",
    "KBO_cheif_Rdd = spark.sparkContext.parallelize(myls)\n",
    "kbo = KBO_cheif_Rdd.map(lambda x: (x.lower().rstrip().lstrip().rstrip(',').rstrip('.'), 1))\n",
    "from operator import add\n",
    "wcReduceByKey = kbo.reduceByKey(add)\n",
    "_wclist = wcReduceByKey.sortByKey().collect()\n",
    "\n",
    "#Q 1.3\n",
    "for t in _wclist:\n",
    "    print t[0],\"의 우승횟수\",t[1]"
   ]
  },
  {
   "cell_type": "code",
   "execution_count": 78,
   "metadata": {
    "collapsed": true
   },
   "outputs": [],
   "source": [
    "##Q02 O"
   ]
  },
  {
   "cell_type": "code",
   "execution_count": 312,
   "metadata": {
    "collapsed": false
   },
   "outputs": [],
   "source": [
    "#Q 2-1\n",
    "import urllib\n",
    "from lxml import etree\n",
    "uResponse = urllib.urlopen('http://www.presidency.ucsb.edu/ws/index.php?pid=120000')\n",
    "_html = uResponse.read()\n",
    "_htmlTree = etree.HTML(_html)\n",
    "result = etree.tostring(_htmlTree, pretty_print=True, method=\"html\")\n",
    "nodes = _htmlTree.xpath('//span[@class=\"displaytext\"]/p')\n",
    "f = open(\"./data/Trump.txt\",'w')\n",
    "for i, node in enumerate(nodes):\n",
    "    mystr = node.text\n",
    "    estr = mystr.encode('ascii', 'ignore').decode('ascii')\n",
    "    f.write(estr)\n",
    "f.close()"
   ]
  },
  {
   "cell_type": "code",
   "execution_count": 313,
   "metadata": {
    "collapsed": false
   },
   "outputs": [],
   "source": [
    "import os\n",
    "lines=spark.sparkContext.textFile(os.path.join(\"data\",\"Trump.txt\"))\n",
    "wc=lines\\\n",
    "    .flatMap(lambda x: x.split(' ')).map(lambda x: (x.lower().rstrip().lstrip().rstrip(',').rstrip('.'), 1))"
   ]
  },
  {
   "cell_type": "code",
   "execution_count": 314,
   "metadata": {
    "collapsed": true
   },
   "outputs": [],
   "source": [
    "from operator import add\n",
    "wcReduceByKey = wc.reduceByKey(add)"
   ]
  },
  {
   "cell_type": "code",
   "execution_count": 315,
   "metadata": {
    "collapsed": false
   },
   "outputs": [],
   "source": [
    "words = wcReduceByKey.sortByKey().collect()"
   ]
  },
  {
   "cell_type": "code",
   "execution_count": 317,
   "metadata": {
    "collapsed": false
   },
   "outputs": [
    {
     "name": "stdout",
     "output_type": "stream",
     "text": [
      "a\n",
      "across\n",
      "again\n",
      "all\n",
      "america\n",
      "american\n",
      "and\n",
      "are\n",
      "at\n",
      "back\n",
      "be\n",
      "but\n",
      "by\n",
      "country\n",
      "dreams\n",
      "every\n",
      "for\n",
      "from\n",
      "great\n",
      "has\n",
      "have\n",
      "in\n",
      "is\n",
      "it\n",
      "make\n",
      "many\n",
      "nation\n",
      "never\n",
      "new\n",
      "no\n",
      "not\n",
      "now\n",
      "of\n",
      "on\n",
      "one\n",
      "other\n",
      "our\n",
      "people\n",
      "protected\n",
      "right\n",
      "same\n",
      "that\n",
      "the\n",
      "their\n",
      "they\n",
      "this\n",
      "to\n",
      "we\n",
      "while\n",
      "will\n",
      "with\n",
      "world\n",
      "you\n",
      "your\n"
     ]
    }
   ],
   "source": [
    "#Q 2-2\n",
    "for w in words:\n",
    "    if w[1] >= 5:\n",
    "        print w[0]"
   ]
  },
  {
   "cell_type": "code",
   "execution_count": 318,
   "metadata": {
    "collapsed": false
   },
   "outputs": [
    {
     "data": {
      "image/png": "[encoded data removed]",
      "text/plain": [
       "<matplotlib.figure.Figure at 0x11401f610>"
      ]
     },
     "metadata": {},
     "output_type": "display_data"
    }
   ],
   "source": [
    "#Q 2-3\n",
    "% matplotlib inline\n",
    "import matplotlib.pyplot as plt\n",
    "\n",
    "count = map(lambda x: x[1] >= 10, words)\n",
    "word = map(lambda x: x[0], words)\n",
    "plt.barh(range(len(count)), count, color = 'grey')\n",
    "plt.yticks(range(len(count)), word)\n",
    "plt.show()"
   ]
  }
 ],
 "metadata": {
  "kernelspec": {
   "display_name": "Python 2",
   "language": "python",
   "name": "python2"
  },
  "language_info": {
   "codemirror_mode": {
    "name": "ipython",
    "version": 2
   },
   "file_extension": ".py",
   "mimetype": "text/x-python",
   "name": "python",
   "nbconvert_exporter": "python",
   "pygments_lexer": "ipython2",
   "version": "2.7.13"
  }
 },
 "nbformat": 4,
 "nbformat_minor": 2
}
