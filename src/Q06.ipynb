{
 "cells": [
  {
   "cell_type": "code",
   "execution_count": 11,
   "metadata": {
    "collapsed": false
   },
   "outputs": [
    {
     "name": "stdout",
     "output_type": "stream",
     "text": [
      "Overwriting src/ds_web_crawl_kbaseball.py\n"
     ]
    }
   ],
   "source": [
    "%%writefile src/ds_web_crawl_kbaseball.py\n",
    "# coding: utf-8\n",
    "import requests\n",
    "import lxml.etree\n",
    "\n",
    "def getkb():\n",
    "    r = requests.get('http://www.kbreport.com/main')\n",
    "    _htmlTree = lxml.etree.HTML(r.text)\n",
    "    nodes = _htmlTree.xpath(\"//div[@class='team-rank-box']//table[@class='team-rank']//tr\")\n",
    "    print u\"테이블 행 갯수: \", len(nodes)\n",
    "    counter=0\n",
    "    for teams in nodes:\n",
    "        for cols in teams:\n",
    "            if cols.xpath('.//a/text()'):\n",
    "                print cols.xpath('.//a/text()')[0],\n",
    "            else:\n",
    "                print cols.text.strip(),\n",
    "        print\n",
    "def main():\n",
    "    getkb()\n",
    "\n",
    "if __name__ == \"__main__\":\n",
    "    main()"
   ]
  },
  {
   "cell_type": "code",
   "execution_count": 10,
   "metadata": {
    "collapsed": false
   },
   "outputs": [
    {
     "name": "stderr",
     "output_type": "stream",
     "text": [
      "  File \"src/ds_web_crawl_kbaseball.py\", line 9\n",
      "    print u \"�뚯씠釉���媛�닔: \", len(nodes)\n",
      "                                   ^\n",
      "SyntaxError: invalid syntax\n"
     ]
    }
   ],
   "source": [
    "!python src/ds_web_crawl_kbaseball.py"
   ]
  }
 ],
 "metadata": {
  "kernelspec": {
   "display_name": "Python 2",
   "language": "python",
   "name": "python2"
  },
  "language_info": {
   "codemirror_mode": {
    "name": "ipython",
    "version": 2
   },
   "file_extension": ".py",
   "mimetype": "text/x-python",
   "name": "python",
   "nbconvert_exporter": "python",
   "pygments_lexer": "ipython2",
   "version": "2.7.13"
  }
 },
 "nbformat": 4,
 "nbformat_minor": 2
}
